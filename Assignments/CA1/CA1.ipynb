{
 "cells": [
  {
   "cell_type": "markdown",
   "metadata": {
    "id": "y5h8ZwYdWrnv"
   },
   "source": [
    "# DAT300 - Compulsory assignment 1"
   ]
  },
  {
   "cell_type": "markdown",
   "metadata": {
    "id": "1OghiVe_WmAv"
   },
   "source": [
    "# Introduction"
   ]
  },
  {
   "cell_type": "markdown",
   "metadata": {
    "id": "w1aWx3SuY1v_"
   },
   "source": [
    "This notebook provides the solution for compulsory assignment 1 for Dat 300 (Deep learning) course. We were provided with a dataset from the titanic disaster. The dataset was based on 11 columns. Out of the 11 columns there is one target column as well that tells whether the person survived the accident of not. Our task was to train a model that predicted the target variable showing whether a person survived the event or not. "
   ]
  },
  {
   "cell_type": "code",
   "execution_count": 1,
   "metadata": {
    "executionInfo": {
     "elapsed": 3389,
     "status": "ok",
     "timestamp": 1633467114431,
     "user": {
      "displayName": "Talha Malik",
      "photoUrl": "https://lh3.googleusercontent.com/a/default-user=s64",
      "userId": "11307539403731091258"
     },
     "user_tz": -120
    },
    "id": "1DjQlWc15U67"
   },
   "outputs": [],
   "source": [
    "## Import libraries\n",
    "import pandas as pd\n",
    "import numpy as np\n",
    "import math\n",
    "\n",
    "from tensorflow.keras.models import Sequential\n",
    "from tensorflow.keras.layers import Dense\n",
    "from tensorflow.keras.wrappers.scikit_learn import KerasClassifier\n",
    "\n",
    "from sklearn.preprocessing import MinMaxScaler\n",
    "from sklearn.model_selection import train_test_split\n",
    "from sklearn.preprocessing import StandardScaler\n",
    "from sklearn.model_selection import GridSearchCV, RandomizedSearchCV\n",
    "\n",
    "import seaborn as sns\n",
    "import matplotlib.pyplot as plt\n",
    "\n",
    "from sklearn.linear_model import LogisticRegression\n",
    "from sklearn.svm import SVC\n",
    "from sklearn.ensemble import RandomForestClassifier"
   ]
  },
  {
   "cell_type": "markdown",
   "metadata": {
    "id": "w_k64ZbdaAEx"
   },
   "source": [
    "# Data pre-processing and visualisation"
   ]
  },
  {
   "cell_type": "code",
   "execution_count": 2,
   "metadata": {
    "executionInfo": {
     "elapsed": 668,
     "status": "ok",
     "timestamp": 1633467116285,
     "user": {
      "displayName": "Talha Malik",
      "photoUrl": "https://lh3.googleusercontent.com/a/default-user=s64",
      "userId": "11307539403731091258"
     },
     "user_tz": -120
    },
    "id": "u1sGZi2U5XOu"
   },
   "outputs": [],
   "source": [
    "# Load dataset from the train file \n",
    "data = pd.read_csv(\"train.csv\")"
   ]
  },
  {
   "cell_type": "code",
   "execution_count": 3,
   "metadata": {
    "colab": {
     "base_uri": "https://localhost:8080/",
     "height": 243
    },
    "executionInfo": {
     "elapsed": 238,
     "status": "ok",
     "timestamp": 1633467117840,
     "user": {
      "displayName": "Talha Malik",
      "photoUrl": "https://lh3.googleusercontent.com/a/default-user=s64",
      "userId": "11307539403731091258"
     },
     "user_tz": -120
    },
    "id": "sUwSz9AfaTAV",
    "outputId": "bc9a834d-025c-4ffa-febf-f12c6f8b23d3"
   },
   "outputs": [
    {
     "data": {
      "text/html": [
       "<div>\n",
       "<style scoped>\n",
       "    .dataframe tbody tr th:only-of-type {\n",
       "        vertical-align: middle;\n",
       "    }\n",
       "\n",
       "    .dataframe tbody tr th {\n",
       "        vertical-align: top;\n",
       "    }\n",
       "\n",
       "    .dataframe thead th {\n",
       "        text-align: right;\n",
       "    }\n",
       "</style>\n",
       "<table border=\"1\" class=\"dataframe\">\n",
       "  <thead>\n",
       "    <tr style=\"text-align: right;\">\n",
       "      <th></th>\n",
       "      <th>Unnamed: 0</th>\n",
       "      <th>col_0</th>\n",
       "      <th>col_1</th>\n",
       "      <th>col_2</th>\n",
       "      <th>col_3</th>\n",
       "      <th>col_4</th>\n",
       "      <th>col_5</th>\n",
       "      <th>col_6</th>\n",
       "      <th>col_7</th>\n",
       "      <th>col_8</th>\n",
       "      <th>target</th>\n",
       "    </tr>\n",
       "  </thead>\n",
       "  <tbody>\n",
       "    <tr>\n",
       "      <th>0</th>\n",
       "      <td>0</td>\n",
       "      <td>8.978818</td>\n",
       "      <td>7933.245770</td>\n",
       "      <td>18.006690</td>\n",
       "      <td>-0.001341</td>\n",
       "      <td>2.194868</td>\n",
       "      <td>9.130840</td>\n",
       "      <td>10.482944</td>\n",
       "      <td>0.074981</td>\n",
       "      <td>2.703268e+04</td>\n",
       "      <td>0.0</td>\n",
       "    </tr>\n",
       "    <tr>\n",
       "      <th>1</th>\n",
       "      <td>1</td>\n",
       "      <td>3.994005</td>\n",
       "      <td>54.271828</td>\n",
       "      <td>36.536885</td>\n",
       "      <td>-0.000330</td>\n",
       "      <td>1.384795</td>\n",
       "      <td>23.773308</td>\n",
       "      <td>6.993599</td>\n",
       "      <td>-0.010534</td>\n",
       "      <td>7.544705e+05</td>\n",
       "      <td>0.0</td>\n",
       "    </tr>\n",
       "    <tr>\n",
       "      <th>2</th>\n",
       "      <td>2</td>\n",
       "      <td>0.997600</td>\n",
       "      <td>2.711767</td>\n",
       "      <td>32.193959</td>\n",
       "      <td>1.002930</td>\n",
       "      <td>-0.002403</td>\n",
       "      <td>33.363202</td>\n",
       "      <td>7.006054</td>\n",
       "      <td>0.082351</td>\n",
       "      <td>1.153677e+06</td>\n",
       "      <td>0.0</td>\n",
       "    </tr>\n",
       "    <tr>\n",
       "      <th>3</th>\n",
       "      <td>3</td>\n",
       "      <td>8.985727</td>\n",
       "      <td>7988.253415</td>\n",
       "      <td>21.677670</td>\n",
       "      <td>-0.002819</td>\n",
       "      <td>2.195637</td>\n",
       "      <td>10.488081</td>\n",
       "      <td>10.481805</td>\n",
       "      <td>-0.230482</td>\n",
       "      <td>5.169128e+04</td>\n",
       "      <td>0.0</td>\n",
       "    </tr>\n",
       "    <tr>\n",
       "      <th>4</th>\n",
       "      <td>4</td>\n",
       "      <td>9.000558</td>\n",
       "      <td>8107.606049</td>\n",
       "      <td>65.403913</td>\n",
       "      <td>0.001092</td>\n",
       "      <td>2.197287</td>\n",
       "      <td>12.416446</td>\n",
       "      <td>10.504148</td>\n",
       "      <td>0.087988</td>\n",
       "      <td>6.594806e+05</td>\n",
       "      <td>0.0</td>\n",
       "    </tr>\n",
       "  </tbody>\n",
       "</table>\n",
       "</div>"
      ],
      "text/plain": [
       "   Unnamed: 0     col_0        col_1      col_2     col_3     col_4  \\\n",
       "0           0  8.978818  7933.245770  18.006690 -0.001341  2.194868   \n",
       "1           1  3.994005    54.271828  36.536885 -0.000330  1.384795   \n",
       "2           2  0.997600     2.711767  32.193959  1.002930 -0.002403   \n",
       "3           3  8.985727  7988.253415  21.677670 -0.002819  2.195637   \n",
       "4           4  9.000558  8107.606049  65.403913  0.001092  2.197287   \n",
       "\n",
       "       col_5      col_6     col_7         col_8  target  \n",
       "0   9.130840  10.482944  0.074981  2.703268e+04     0.0  \n",
       "1  23.773308   6.993599 -0.010534  7.544705e+05     0.0  \n",
       "2  33.363202   7.006054  0.082351  1.153677e+06     0.0  \n",
       "3  10.488081  10.481805 -0.230482  5.169128e+04     0.0  \n",
       "4  12.416446  10.504148  0.087988  6.594806e+05     0.0  "
      ]
     },
     "execution_count": 3,
     "metadata": {},
     "output_type": "execute_result"
    }
   ],
   "source": [
    "# Observe the dataframe\n",
    "data.head()"
   ]
  },
  {
   "cell_type": "code",
   "execution_count": 4,
   "metadata": {
    "executionInfo": {
     "elapsed": 3,
     "status": "ok",
     "timestamp": 1633467118873,
     "user": {
      "displayName": "Talha Malik",
      "photoUrl": "https://lh3.googleusercontent.com/a/default-user=s64",
      "userId": "11307539403731091258"
     },
     "user_tz": -120
    },
    "id": "hp2TPCEH6j81"
   },
   "outputs": [],
   "source": [
    "# Drop the unnamed column which is basically a serial number\n",
    "data = data.drop(data.columns[0], axis=1)"
   ]
  },
  {
   "cell_type": "code",
   "execution_count": 5,
   "metadata": {
    "colab": {
     "base_uri": "https://localhost:8080/"
    },
    "executionInfo": {
     "elapsed": 225,
     "status": "ok",
     "timestamp": 1633467122770,
     "user": {
      "displayName": "Talha Malik",
      "photoUrl": "https://lh3.googleusercontent.com/a/default-user=s64",
      "userId": "11307539403731091258"
     },
     "user_tz": -120
    },
    "id": "Wg-AGqot6YfE",
    "outputId": "bca1f4a8-acc2-4616-fe56-16d8a0ef3ffe"
   },
   "outputs": [
    {
     "name": "stdout",
     "output_type": "stream",
     "text": [
      "col_0     0\n",
      "col_1     0\n",
      "col_2     0\n",
      "col_3     0\n",
      "col_4     0\n",
      "col_5     0\n",
      "col_6     0\n",
      "col_7     0\n",
      "col_8     0\n",
      "target    0\n",
      "dtype: int64\n"
     ]
    }
   ],
   "source": [
    "# Check for null values\n",
    "print(data.isna().sum())"
   ]
  },
  {
   "cell_type": "code",
   "execution_count": 6,
   "metadata": {
    "colab": {
     "base_uri": "https://localhost:8080/"
    },
    "executionInfo": {
     "elapsed": 12,
     "status": "ok",
     "timestamp": 1633467123788,
     "user": {
      "displayName": "Talha Malik",
      "photoUrl": "https://lh3.googleusercontent.com/a/default-user=s64",
      "userId": "11307539403731091258"
     },
     "user_tz": -120
    },
    "id": "vvA6v1OmEppS",
    "outputId": "577f929d-9e72-482b-cfdb-8710e30aaf34"
   },
   "outputs": [
    {
     "data": {
      "text/plain": [
       "160000"
      ]
     },
     "execution_count": 6,
     "metadata": {},
     "output_type": "execute_result"
    }
   ],
   "source": [
    "# Length of data\n",
    "len(data)"
   ]
  },
  {
   "cell_type": "markdown",
   "metadata": {
    "id": "ipkdfLwrau-s"
   },
   "source": [
    "#### Visualization"
   ]
  },
  {
   "cell_type": "code",
   "execution_count": 7,
   "metadata": {
    "colab": {
     "base_uri": "https://localhost:8080/",
     "height": 320
    },
    "executionInfo": {
     "elapsed": 29,
     "status": "ok",
     "timestamp": 1633443839968,
     "user": {
      "displayName": "Talha Malik",
      "photoUrl": "https://lh3.googleusercontent.com/a/default-user=s64",
      "userId": "11307539403731091258"
     },
     "user_tz": -120
    },
    "id": "cev_fy23ElxG",
    "outputId": "bff8268c-2ab8-48d3-9135-c15eb1f19b35"
   },
   "outputs": [
    {
     "data": {
      "text/html": [
       "<div>\n",
       "<style scoped>\n",
       "    .dataframe tbody tr th:only-of-type {\n",
       "        vertical-align: middle;\n",
       "    }\n",
       "\n",
       "    .dataframe tbody tr th {\n",
       "        vertical-align: top;\n",
       "    }\n",
       "\n",
       "    .dataframe thead th {\n",
       "        text-align: right;\n",
       "    }\n",
       "</style>\n",
       "<table border=\"1\" class=\"dataframe\">\n",
       "  <thead>\n",
       "    <tr style=\"text-align: right;\">\n",
       "      <th></th>\n",
       "      <th>col_0</th>\n",
       "      <th>col_1</th>\n",
       "      <th>col_2</th>\n",
       "      <th>col_3</th>\n",
       "      <th>col_4</th>\n",
       "      <th>col_5</th>\n",
       "      <th>col_6</th>\n",
       "      <th>col_7</th>\n",
       "      <th>col_8</th>\n",
       "      <th>target</th>\n",
       "    </tr>\n",
       "  </thead>\n",
       "  <tbody>\n",
       "    <tr>\n",
       "      <th>count</th>\n",
       "      <td>160000.000000</td>\n",
       "      <td>160000.000000</td>\n",
       "      <td>160000.000000</td>\n",
       "      <td>160000.000000</td>\n",
       "      <td>160000.000000</td>\n",
       "      <td>160000.000000</td>\n",
       "      <td>160000.000000</td>\n",
       "      <td>1.600000e+05</td>\n",
       "      <td>1.600000e+05</td>\n",
       "      <td>160000.000000</td>\n",
       "    </tr>\n",
       "    <tr>\n",
       "      <th>mean</th>\n",
       "      <td>4.692211</td>\n",
       "      <td>2556.882075</td>\n",
       "      <td>38.842503</td>\n",
       "      <td>0.402870</td>\n",
       "      <td>1.235912</td>\n",
       "      <td>41.422999</td>\n",
       "      <td>8.485864</td>\n",
       "      <td>-1.722489e+01</td>\n",
       "      <td>1.271844e+07</td>\n",
       "      <td>0.428963</td>\n",
       "    </tr>\n",
       "    <tr>\n",
       "      <th>std</th>\n",
       "      <td>3.160399</td>\n",
       "      <td>3731.293204</td>\n",
       "      <td>18.239105</td>\n",
       "      <td>0.814047</td>\n",
       "      <td>0.862828</td>\n",
       "      <td>67.845301</td>\n",
       "      <td>3.249466</td>\n",
       "      <td>8.041504e+03</td>\n",
       "      <td>6.642855e+07</td>\n",
       "      <td>0.494929</td>\n",
       "    </tr>\n",
       "    <tr>\n",
       "      <th>min</th>\n",
       "      <td>0.968253</td>\n",
       "      <td>2.633340</td>\n",
       "      <td>-3.826358</td>\n",
       "      <td>-0.009382</td>\n",
       "      <td>-0.032262</td>\n",
       "      <td>1.867981</td>\n",
       "      <td>3.432973</td>\n",
       "      <td>-2.373622e+06</td>\n",
       "      <td>6.502112e-03</td>\n",
       "      <td>0.000000</td>\n",
       "    </tr>\n",
       "    <tr>\n",
       "      <th>25%</th>\n",
       "      <td>1.009518</td>\n",
       "      <td>2.744277</td>\n",
       "      <td>24.172138</td>\n",
       "      <td>-0.001803</td>\n",
       "      <td>0.009473</td>\n",
       "      <td>11.472291</td>\n",
       "      <td>6.988763</td>\n",
       "      <td>-1.749591e-01</td>\n",
       "      <td>1.010675e+05</td>\n",
       "      <td>0.000000</td>\n",
       "    </tr>\n",
       "    <tr>\n",
       "      <th>50%</th>\n",
       "      <td>3.998660</td>\n",
       "      <td>54.525056</td>\n",
       "      <td>39.534776</td>\n",
       "      <td>-0.000072</td>\n",
       "      <td>1.385959</td>\n",
       "      <td>23.492842</td>\n",
       "      <td>7.011010</td>\n",
       "      <td>1.291813e-02</td>\n",
       "      <td>4.643048e+05</td>\n",
       "      <td>0.000000</td>\n",
       "    </tr>\n",
       "    <tr>\n",
       "      <th>75%</th>\n",
       "      <td>8.980269</td>\n",
       "      <td>7944.772764</td>\n",
       "      <td>54.297277</td>\n",
       "      <td>0.994750</td>\n",
       "      <td>2.195030</td>\n",
       "      <td>31.776878</td>\n",
       "      <td>10.493763</td>\n",
       "      <td>2.489355e-01</td>\n",
       "      <td>2.488149e+06</td>\n",
       "      <td>1.000000</td>\n",
       "    </tr>\n",
       "    <tr>\n",
       "      <th>max</th>\n",
       "      <td>9.071419</td>\n",
       "      <td>8702.963926</td>\n",
       "      <td>84.941718</td>\n",
       "      <td>4.210325</td>\n",
       "      <td>2.205129</td>\n",
       "      <td>724.802989</td>\n",
       "      <td>24.949926</td>\n",
       "      <td>8.504923e+05</td>\n",
       "      <td>2.157407e+09</td>\n",
       "      <td>1.000000</td>\n",
       "    </tr>\n",
       "  </tbody>\n",
       "</table>\n",
       "</div>"
      ],
      "text/plain": [
       "               col_0          col_1          col_2          col_3  \\\n",
       "count  160000.000000  160000.000000  160000.000000  160000.000000   \n",
       "mean        4.692211    2556.882075      38.842503       0.402870   \n",
       "std         3.160399    3731.293204      18.239105       0.814047   \n",
       "min         0.968253       2.633340      -3.826358      -0.009382   \n",
       "25%         1.009518       2.744277      24.172138      -0.001803   \n",
       "50%         3.998660      54.525056      39.534776      -0.000072   \n",
       "75%         8.980269    7944.772764      54.297277       0.994750   \n",
       "max         9.071419    8702.963926      84.941718       4.210325   \n",
       "\n",
       "               col_4          col_5          col_6         col_7  \\\n",
       "count  160000.000000  160000.000000  160000.000000  1.600000e+05   \n",
       "mean        1.235912      41.422999       8.485864 -1.722489e+01   \n",
       "std         0.862828      67.845301       3.249466  8.041504e+03   \n",
       "min        -0.032262       1.867981       3.432973 -2.373622e+06   \n",
       "25%         0.009473      11.472291       6.988763 -1.749591e-01   \n",
       "50%         1.385959      23.492842       7.011010  1.291813e-02   \n",
       "75%         2.195030      31.776878      10.493763  2.489355e-01   \n",
       "max         2.205129     724.802989      24.949926  8.504923e+05   \n",
       "\n",
       "              col_8         target  \n",
       "count  1.600000e+05  160000.000000  \n",
       "mean   1.271844e+07       0.428963  \n",
       "std    6.642855e+07       0.494929  \n",
       "min    6.502112e-03       0.000000  \n",
       "25%    1.010675e+05       0.000000  \n",
       "50%    4.643048e+05       0.000000  \n",
       "75%    2.488149e+06       1.000000  \n",
       "max    2.157407e+09       1.000000  "
      ]
     },
     "execution_count": 7,
     "metadata": {},
     "output_type": "execute_result"
    }
   ],
   "source": [
    "data.describe()"
   ]
  },
  {
   "cell_type": "markdown",
   "metadata": {
    "id": "gEcANmF1bfFM"
   },
   "source": [
    "If we observe this table we can see that columns (col_5, col_7 and col_8) are showing significant differences. We might have to remove the outliers for these"
   ]
  },
  {
   "cell_type": "code",
   "execution_count": 8,
   "metadata": {
    "colab": {
     "base_uri": "https://localhost:8080/",
     "height": 844
    },
    "executionInfo": {
     "elapsed": 2427,
     "status": "ok",
     "timestamp": 1633443842368,
     "user": {
      "displayName": "Talha Malik",
      "photoUrl": "https://lh3.googleusercontent.com/a/default-user=s64",
      "userId": "11307539403731091258"
     },
     "user_tz": -120
    },
    "id": "r3KFTJFfXNzd",
    "outputId": "d46eb680-c9b0-4498-e38c-f86f52795952"
   },
   "outputs": [
    {
     "data": {
      "image/png": "[encoded data removed]",
      "text/plain": [
       "<Figure size 1440x1440 with 12 Axes>"
      ]
     },
     "metadata": {
      "needs_background": "light"
     },
     "output_type": "display_data"
    }
   ],
   "source": [
    "# Histograms\n",
    "data.hist(figsize=(20,20))\n",
    "plt.show()"
   ]
  },
  {
   "cell_type": "code",
   "execution_count": 9,
   "metadata": {
    "colab": {
     "base_uri": "https://localhost:8080/",
     "height": 865
    },
    "executionInfo": {
     "elapsed": 2099,
     "status": "ok",
     "timestamp": 1633443844461,
     "user": {
      "displayName": "Talha Malik",
      "photoUrl": "https://lh3.googleusercontent.com/a/default-user=s64",
      "userId": "11307539403731091258"
     },
     "user_tz": -120
    },
    "id": "FIKHkcSTXY07",
    "outputId": "43f0360f-94d4-48ac-b5c8-993d29464973"
   },
   "outputs": [
    {
     "data": {
      "image/png": "[encoded data removed]",
      "text/plain": [
       "<Figure size 1080x1080 with 9 Axes>"
      ]
     },
     "metadata": {
      "needs_background": "light"
     },
     "output_type": "display_data"
    }
   ],
   "source": [
    "# Box Plots of the Columns\n",
    "fig, axs = plt.subplots(3, 3,figsize=(15,15))\n",
    "row = 0\n",
    "col = 0\n",
    "for x in axs:\n",
    "    row_position = 0\n",
    "    if row == 0:\n",
    "        col = 0\n",
    "    else:\n",
    "        col += 1\n",
    "    x[row_position].title.set_text(data.columns[col])\n",
    "    sns.boxplot(data=data[data.columns[col]], ax=x[0])\n",
    "    col += 1\n",
    "    row_position += 1\n",
    "    x[row_position].title.set_text(data.columns[col])\n",
    "    sns.boxplot(data=data[data.columns[col]], ax=x[1])\n",
    "    col += 1\n",
    "    row_position += 1\n",
    "    x[row_position].title.set_text(data.columns[col])\n",
    "    sns.boxplot(data=data[data.columns[col]], ax=x[2])\n",
    "    row += 1"
   ]
  },
  {
   "cell_type": "code",
   "execution_count": 10,
   "metadata": {
    "colab": {
     "base_uri": "https://localhost:8080/",
     "height": 865
    },
    "executionInfo": {
     "elapsed": 5374,
     "status": "ok",
     "timestamp": 1633443849826,
     "user": {
      "displayName": "Talha Malik",
      "photoUrl": "https://lh3.googleusercontent.com/a/default-user=s64",
      "userId": "11307539403731091258"
     },
     "user_tz": -120
    },
    "id": "lx5XO9EWXhwR",
    "outputId": "3f0d7153-8de8-42e5-9159-f0694162742e"
   },
   "outputs": [
    {
     "data": {
      "image/png": "[encoded data removed]",
      "text/plain": [
       "<Figure size 1080x1080 with 9 Axes>"
      ]
     },
     "metadata": {
      "needs_background": "light"
     },
     "output_type": "display_data"
    }
   ],
   "source": [
    "# Violen Plots of the Columns\n",
    "fig, axs = plt.subplots(3, 3,figsize=(15,15))\n",
    "row = 0\n",
    "col = 0\n",
    "for x in axs:\n",
    "    row_position = 0\n",
    "    if row == 0:\n",
    "        col = 0\n",
    "    else:\n",
    "        col += 1\n",
    "    x[row_position].title.set_text(data.columns[col])\n",
    "    sns.violinplot(data=data[data.columns[col]], ax=x[0])\n",
    "    col += 1\n",
    "    row_position += 1\n",
    "    x[row_position].title.set_text(data.columns[col])\n",
    "    sns.violinplot(data=data[data.columns[col]], ax=x[1])\n",
    "    col += 1\n",
    "    row_position += 1\n",
    "    x[row_position].title.set_text(data.columns[col])\n",
    "    sns.violinplot(data=data[data.columns[col]], ax=x[2])\n",
    "    row += 1"
   ]
  },
  {
   "cell_type": "markdown",
   "metadata": {
    "id": "l_9SDprcc8fR"
   },
   "source": [
    "By observing the boxplots and violin plots, we confirm our theory of outliers in columns."
   ]
  },
  {
   "cell_type": "code",
   "execution_count": 11,
   "metadata": {
    "colab": {
     "base_uri": "https://localhost:8080/",
     "height": 505
    },
    "executionInfo": {
     "elapsed": 578,
     "status": "ok",
     "timestamp": 1633443850392,
     "user": {
      "displayName": "Talha Malik",
      "photoUrl": "https://lh3.googleusercontent.com/a/default-user=s64",
      "userId": "11307539403731091258"
     },
     "user_tz": -120
    },
    "id": "RjVqFinZHf2H",
    "outputId": "27df102f-89cf-4c4b-f659-fa6e280d6915"
   },
   "outputs": [
    {
     "data": {
      "text/plain": [
       "<matplotlib.axes._subplots.AxesSubplot at 0x7f88b9118b10>"
      ]
     },
     "execution_count": 11,
     "metadata": {},
     "output_type": "execute_result"
    },
    {
     "data": {
      "image/png": "[encoded data removed]",
      "text/plain": [
       "<Figure size 576x576 with 2 Axes>"
      ]
     },
     "metadata": {
      "needs_background": "light"
     },
     "output_type": "display_data"
    }
   ],
   "source": [
    "# Correlation matrix\n",
    "plt.figure(figsize=(8,8))\n",
    "sns.heatmap(data.corr(),annot=True)"
   ]
  },
  {
   "cell_type": "markdown",
   "metadata": {
    "id": "Tai3Djvidkfl"
   },
   "source": [
    "By observing the correlation heat map we see that col_1 and col_0 are highly correlated. Furthermore, col_7 shows alomost no correlation with the target variable. So we will remove these columns. \n",
    "\n",
    "After removing the columns we will use the data to train machine learning models. We will not use the data with removed columns for training our ANN because the correlations could be non linear. We will let our ANN decide and train on its own."
   ]
  },
  {
   "cell_type": "code",
   "execution_count": 8,
   "metadata": {
    "executionInfo": {
     "elapsed": 19,
     "status": "ok",
     "timestamp": 1633443850394,
     "user": {
      "displayName": "Talha Malik",
      "photoUrl": "https://lh3.googleusercontent.com/a/default-user=s64",
      "userId": "11307539403731091258"
     },
     "user_tz": -120
    },
    "id": "4Fov9vRGRSFs"
   },
   "outputs": [],
   "source": [
    "data_ML = data.drop(columns=[\"col_0\",\"col_7\"])"
   ]
  },
  {
   "cell_type": "code",
   "execution_count": 9,
   "metadata": {
    "colab": {
     "base_uri": "https://localhost:8080/",
     "height": 206
    },
    "executionInfo": {
     "elapsed": 18,
     "status": "ok",
     "timestamp": 1633443850395,
     "user": {
      "displayName": "Talha Malik",
      "photoUrl": "https://lh3.googleusercontent.com/a/default-user=s64",
      "userId": "11307539403731091258"
     },
     "user_tz": -120
    },
    "id": "ukwdGrbBewSr",
    "outputId": "0b086810-1c16-4fe6-9427-a94ecee8c78a"
   },
   "outputs": [
    {
     "data": {
      "text/html": [
       "<div>\n",
       "<style scoped>\n",
       "    .dataframe tbody tr th:only-of-type {\n",
       "        vertical-align: middle;\n",
       "    }\n",
       "\n",
       "    .dataframe tbody tr th {\n",
       "        vertical-align: top;\n",
       "    }\n",
       "\n",
       "    .dataframe thead th {\n",
       "        text-align: right;\n",
       "    }\n",
       "</style>\n",
       "<table border=\"1\" class=\"dataframe\">\n",
       "  <thead>\n",
       "    <tr style=\"text-align: right;\">\n",
       "      <th></th>\n",
       "      <th>col_1</th>\n",
       "      <th>col_2</th>\n",
       "      <th>col_3</th>\n",
       "      <th>col_4</th>\n",
       "      <th>col_5</th>\n",
       "      <th>col_6</th>\n",
       "      <th>col_8</th>\n",
       "      <th>target</th>\n",
       "    </tr>\n",
       "  </thead>\n",
       "  <tbody>\n",
       "    <tr>\n",
       "      <th>0</th>\n",
       "      <td>7933.245770</td>\n",
       "      <td>18.006690</td>\n",
       "      <td>-0.001341</td>\n",
       "      <td>2.194868</td>\n",
       "      <td>9.130840</td>\n",
       "      <td>10.482944</td>\n",
       "      <td>2.703268e+04</td>\n",
       "      <td>0.0</td>\n",
       "    </tr>\n",
       "    <tr>\n",
       "      <th>1</th>\n",
       "      <td>54.271828</td>\n",
       "      <td>36.536885</td>\n",
       "      <td>-0.000330</td>\n",
       "      <td>1.384795</td>\n",
       "      <td>23.773308</td>\n",
       "      <td>6.993599</td>\n",
       "      <td>7.544705e+05</td>\n",
       "      <td>0.0</td>\n",
       "    </tr>\n",
       "    <tr>\n",
       "      <th>2</th>\n",
       "      <td>2.711767</td>\n",
       "      <td>32.193959</td>\n",
       "      <td>1.002930</td>\n",
       "      <td>-0.002403</td>\n",
       "      <td>33.363202</td>\n",
       "      <td>7.006054</td>\n",
       "      <td>1.153677e+06</td>\n",
       "      <td>0.0</td>\n",
       "    </tr>\n",
       "    <tr>\n",
       "      <th>3</th>\n",
       "      <td>7988.253415</td>\n",
       "      <td>21.677670</td>\n",
       "      <td>-0.002819</td>\n",
       "      <td>2.195637</td>\n",
       "      <td>10.488081</td>\n",
       "      <td>10.481805</td>\n",
       "      <td>5.169128e+04</td>\n",
       "      <td>0.0</td>\n",
       "    </tr>\n",
       "    <tr>\n",
       "      <th>4</th>\n",
       "      <td>8107.606049</td>\n",
       "      <td>65.403913</td>\n",
       "      <td>0.001092</td>\n",
       "      <td>2.197287</td>\n",
       "      <td>12.416446</td>\n",
       "      <td>10.504148</td>\n",
       "      <td>6.594806e+05</td>\n",
       "      <td>0.0</td>\n",
       "    </tr>\n",
       "  </tbody>\n",
       "</table>\n",
       "</div>"
      ],
      "text/plain": [
       "         col_1      col_2     col_3     col_4      col_5      col_6  \\\n",
       "0  7933.245770  18.006690 -0.001341  2.194868   9.130840  10.482944   \n",
       "1    54.271828  36.536885 -0.000330  1.384795  23.773308   6.993599   \n",
       "2     2.711767  32.193959  1.002930 -0.002403  33.363202   7.006054   \n",
       "3  7988.253415  21.677670 -0.002819  2.195637  10.488081  10.481805   \n",
       "4  8107.606049  65.403913  0.001092  2.197287  12.416446  10.504148   \n",
       "\n",
       "          col_8  target  \n",
       "0  2.703268e+04     0.0  \n",
       "1  7.544705e+05     0.0  \n",
       "2  1.153677e+06     0.0  \n",
       "3  5.169128e+04     0.0  \n",
       "4  6.594806e+05     0.0  "
      ]
     },
     "execution_count": 9,
     "metadata": {},
     "output_type": "execute_result"
    }
   ],
   "source": [
    "data_ML.head()"
   ]
  },
  {
   "cell_type": "code",
   "execution_count": 10,
   "metadata": {
    "colab": {
     "base_uri": "https://localhost:8080/",
     "height": 505
    },
    "executionInfo": {
     "elapsed": 770,
     "status": "ok",
     "timestamp": 1633443851149,
     "user": {
      "displayName": "Talha Malik",
      "photoUrl": "https://lh3.googleusercontent.com/a/default-user=s64",
      "userId": "11307539403731091258"
     },
     "user_tz": -120
    },
    "id": "opFJAUL_Rlo4",
    "outputId": "622369bd-cd62-45a1-844d-4e90ff61bc82"
   },
   "outputs": [
    {
     "data": {
      "text/plain": [
       "<AxesSubplot:>"
      ]
     },
     "execution_count": 10,
     "metadata": {},
     "output_type": "execute_result"
    },
    {
     "data": {
      "image/png": "[encoded data removed]",
      "text/plain": [
       "<Figure size 576x576 with 2 Axes>"
      ]
     },
     "metadata": {
      "needs_background": "light"
     },
     "output_type": "display_data"
    }
   ],
   "source": [
    "plt.figure(figsize=(8,8))\n",
    "sns.heatmap(data_ML.corr(),annot=True)"
   ]
  },
  {
   "cell_type": "code",
   "execution_count": 11,
   "metadata": {
    "executionInfo": {
     "elapsed": 13,
     "status": "ok",
     "timestamp": 1633443851152,
     "user": {
      "displayName": "Talha Malik",
      "photoUrl": "https://lh3.googleusercontent.com/a/default-user=s64",
      "userId": "11307539403731091258"
     },
     "user_tz": -120
    },
    "id": "S0spJwXOHde-"
   },
   "outputs": [],
   "source": [
    "# Updating outliers and replacing them with median value\n",
    "for x in data_ML.columns:\n",
    "  if x == 'col_5' or x == 'col_7' or x == 'col_8':\n",
    "    data_ML[x] = np.where(data_ML[x] > data_ML[x].quantile(0.90),\n",
    "                                                 data_ML[x].quantile(0.50), data_ML[x])"
   ]
  },
  {
   "cell_type": "code",
   "execution_count": 16,
   "metadata": {
    "executionInfo": {
     "elapsed": 14,
     "status": "ok",
     "timestamp": 1633443851154,
     "user": {
      "displayName": "Talha Malik",
      "photoUrl": "https://lh3.googleusercontent.com/a/default-user=s64",
      "userId": "11307539403731091258"
     },
     "user_tz": -120
    },
    "id": "lqy1yip_JNlI"
   },
   "outputs": [],
   "source": [
    "# # Box Plots of the Columns after oulier removal\n",
    "# fig, axs = plt.subplots(3, 3,figsize=(15,15))\n",
    "# row = 0\n",
    "# col = 0\n",
    "# for x in axs:\n",
    "#     row_position = 0\n",
    "#     if row == 0:\n",
    "#         col = 0\n",
    "#     else:\n",
    "#         col += 1\n",
    "#     x[row_position].title.set_text(data_ML.columns[col])\n",
    "#     sns.boxplot(data=data_ML[data_ML.columns[col]], ax=x[0])\n",
    "#     col += 1\n",
    "#     row_position += 1\n",
    "#     x[row_position].title.set_text(data_ML.columns[col])\n",
    "#     sns.boxplot(data=data_ML[data_ML.columns[col]], ax=x[1])\n",
    "#     col += 1\n",
    "#     row_position += 1\n",
    "#     x[row_position].title.set_text(data_ML.columns[col])\n",
    "#     sns.boxplot(data=data_ML[data_ML.columns[col]], ax=x[2])\n",
    "#     row += 1"
   ]
  },
  {
   "cell_type": "code",
   "execution_count": 12,
   "metadata": {
    "executionInfo": {
     "elapsed": 14,
     "status": "ok",
     "timestamp": 1633443851155,
     "user": {
      "displayName": "Talha Malik",
      "photoUrl": "https://lh3.googleusercontent.com/a/default-user=s64",
      "userId": "11307539403731091258"
     },
     "user_tz": -120
    },
    "id": "vJ3UUJRdIT-2"
   },
   "outputs": [],
   "source": [
    "# Dividing dataset into X(train) and y(test)\n",
    "X_ML = data_ML.iloc[:, 0:7]\n",
    "y_ML = data_ML.iloc[:,7]"
   ]
  },
  {
   "cell_type": "code",
   "execution_count": 13,
   "metadata": {
    "executionInfo": {
     "elapsed": 284,
     "status": "ok",
     "timestamp": 1633443851425,
     "user": {
      "displayName": "Talha Malik",
      "photoUrl": "https://lh3.googleusercontent.com/a/default-user=s64",
      "userId": "11307539403731091258"
     },
     "user_tz": -120
    },
    "id": "b178nHAQJVvk"
   },
   "outputs": [],
   "source": [
    "# Test Train Split\n",
    "X_train, X_test, y_train, y_test = train_test_split(X_ML, y_ML, test_size=0.2, random_state=3, stratify=y_ML)"
   ]
  },
  {
   "cell_type": "code",
   "execution_count": 14,
   "metadata": {
    "executionInfo": {
     "elapsed": 7,
     "status": "ok",
     "timestamp": 1633443851430,
     "user": {
      "displayName": "Talha Malik",
      "photoUrl": "https://lh3.googleusercontent.com/a/default-user=s64",
      "userId": "11307539403731091258"
     },
     "user_tz": -120
    },
    "id": "owle6OUC56MQ"
   },
   "outputs": [],
   "source": [
    "# Standarization\n",
    "sc = StandardScaler()\n",
    "sc.fit(X_train)\n",
    "X_train_std = sc.transform(X_train)\n",
    "X_test_std = sc.transform(X_test)"
   ]
  },
  {
   "cell_type": "markdown",
   "metadata": {
    "id": "r9dBOD47aDIw"
   },
   "source": [
    "# Methods"
   ]
  },
  {
   "cell_type": "markdown",
   "metadata": {},
   "source": [
    "The Classification algorithm had a significant running time, especially the support vector machine. A grid search was tried in this case, but was not used because of the long running time. Random forest proved to be a good classifier for this, as well as the SVM. With more optimization, the latter could have had a better performance. \n",
    "\n",
    "Setting outlier values to median value was done, to avoid exaggetrated \"Down-scaling\" of data of lower value when scaled. \n",
    "This seemed to have a positive impact to the accuracy. Not all outlier values were replaced with median, as more than the upper 10% quantile did not countain all outliers for the coluns.Therefore, the down-scaling could still be a factor. The downside to replacing outliers with median values is that important patterns can be removed, making it harder to perform a good prediction.\n",
    "\n",
    "Column 7 were removed due to low correlation with the target. Column 0 were removed due to high correlation with column 1. \n",
    "\n",
    "As for ANN training, different activation functions than the sigmoid activation function was tested in the last layer, but we experienced a drop in the accuracy. This may indicate that there are non-linear trends in the dataset.\n",
    "\n",
    "Grid search was performed for parameter optimization, with good results. \n",
    "\n",
    "For the ANN, lower amounts of epochs were tried, but with little success."
   ]
  },
  {
   "cell_type": "markdown",
   "metadata": {
    "id": "dfdcJBr9gEnk"
   },
   "source": [
    "### Machine Learning models"
   ]
  },
  {
   "cell_type": "code",
   "execution_count": 16,
   "metadata": {
    "colab": {
     "base_uri": "https://localhost:8080/"
    },
    "executionInfo": {
     "elapsed": 1009170,
     "status": "ok",
     "timestamp": 1633444880344,
     "user": {
      "displayName": "Talha Malik",
      "photoUrl": "https://lh3.googleusercontent.com/a/default-user=s64",
      "userId": "11307539403731091258"
     },
     "user_tz": -120
    },
    "id": "uMuJWUkUYnJF",
    "outputId": "ac4dc9ee-0c37-493c-a690-beea427582dd"
   },
   "outputs": [
    {
     "name": "stdout",
     "output_type": "stream",
     "text": [
      "Support Vector training accuracy:  0.7955078125\n",
      "Support Vector validation accuracy:  0.79525\n"
     ]
    }
   ],
   "source": [
    "# Suport Vector Classifier\n",
    "svc = SVC(gamma='auto')\n",
    "svc.fit(X_train_std, y_train)\n",
    "print('Support Vector training accuracy: ' , svc.score(X_train_std, y_train))\n",
    "svc.predict(X_test_std)\n",
    "print('Support Vector validation accuracy: ' , svc.score(X_test_std, y_test))"
   ]
  },
  {
   "cell_type": "code",
   "execution_count": 22,
   "metadata": {
    "colab": {
     "base_uri": "https://localhost:8080/"
    },
    "executionInfo": {
     "elapsed": 2555945,
     "status": "ok",
     "timestamp": 1633447436267,
     "user": {
      "displayName": "Talha Malik",
      "photoUrl": "https://lh3.googleusercontent.com/a/default-user=s64",
      "userId": "11307539403731091258"
     },
     "user_tz": -120
    },
    "id": "j49qdS8yYDQu",
    "outputId": "f1b93fcd-b2ef-4837-d8a9-5ce809f81a6a"
   },
   "outputs": [
    {
     "name": "stdout",
     "output_type": "stream",
     "text": [
      "Random forrest with best params accuracy:  0.7904609375\n",
      "Random forrest best params:  {'criterion': 'entropy', 'n_estimators': 300}\n",
      "Random Forrest validation accuracy:  0.79315625\n"
     ]
    }
   ],
   "source": [
    "# Grid seacrh CV for Random Forrest\n",
    "param_grid   = [{'n_estimators': [100,200,300], 'criterion': [\"gini\", \"entropy\"]}]\n",
    "grid = GridSearchCV(estimator = RandomForestClassifier(random_state=1,n_jobs=-1), param_grid = param_grid)\n",
    "grid.fit(X_train_std,y_train)\n",
    "print('Random forrest with best params accuracy: ' , grid.best_score_)\n",
    "print('Random forrest best params: ' ,grid.best_params_)\n",
    "classifier_random = grid.best_estimator_\n",
    "print('Random Forrest validation accuracy: ' , classifier_random.score(X_test_std, y_test))"
   ]
  },
  {
   "cell_type": "markdown",
   "metadata": {
    "id": "j14l37vegI9d"
   },
   "source": [
    "### ANN Models"
   ]
  },
  {
   "cell_type": "code",
   "execution_count": 7,
   "metadata": {
    "executionInfo": {
     "elapsed": 212,
     "status": "ok",
     "timestamp": 1633467137294,
     "user": {
      "displayName": "Talha Malik",
      "photoUrl": "https://lh3.googleusercontent.com/a/default-user=s64",
      "userId": "11307539403731091258"
     },
     "user_tz": -120
    },
    "id": "Q2QHPfcmhaRO"
   },
   "outputs": [],
   "source": [
    "# Dividing dataset into X(train) and y(test)\n",
    "X = data.iloc[:, 0:9]\n",
    "y = data.iloc[:,9]\n",
    "# Test Train Split\n",
    "X_train, X_test, y_train, y_test = train_test_split(X, y, test_size=0.2, random_state=3, stratify=y)\n",
    "# Standarization\n",
    "sc = StandardScaler()\n",
    "sc.fit(X_train)\n",
    "X_train_std = sc.transform(X_train)\n",
    "X_test_std = sc.transform(X_test)"
   ]
  },
  {
   "cell_type": "code",
   "execution_count": 18,
   "metadata": {
    "executionInfo": {
     "elapsed": 235,
     "status": "ok",
     "timestamp": 1633482119323,
     "user": {
      "displayName": "Talha Malik",
      "photoUrl": "https://lh3.googleusercontent.com/a/default-user=s64",
      "userId": "11307539403731091258"
     },
     "user_tz": -120
    },
    "id": "2mYSeAE_AUtw"
   },
   "outputs": [],
   "source": [
    "from tensorflow.keras import models\n",
    "from tensorflow.keras import layers\n",
    "from tensorflow.keras import optimizers\n",
    "model_simple = models.Sequential([\n",
    "    layers.Dense(128, activation='relu'),\n",
    "    layers.Dense(128, activation='relu'),\n",
    "    layers.Dense(4, activation='relu'),\n",
    "    layers.Dense(1, activation='sigmoid')])"
   ]
  },
  {
   "cell_type": "code",
   "execution_count": 19,
   "metadata": {
    "executionInfo": {
     "elapsed": 6,
     "status": "ok",
     "timestamp": 1633482120281,
     "user": {
      "displayName": "Talha Malik",
      "photoUrl": "https://lh3.googleusercontent.com/a/default-user=s64",
      "userId": "11307539403731091258"
     },
     "user_tz": -120
    },
    "id": "xK1w6EwVB3z5"
   },
   "outputs": [],
   "source": [
    "model_simple.compile(optimizer='rmsprop',\n",
    "              loss='binary_crossentropy',\n",
    "              metrics=['accuracy'])"
   ]
  },
  {
   "cell_type": "code",
   "execution_count": 21,
   "metadata": {
    "colab": {
     "base_uri": "https://localhost:8080/"
    },
    "executionInfo": {
     "elapsed": 29223,
     "status": "ok",
     "timestamp": 1633482195760,
     "user": {
      "displayName": "Talha Malik",
      "photoUrl": "https://lh3.googleusercontent.com/a/default-user=s64",
      "userId": "11307539403731091258"
     },
     "user_tz": -120
    },
    "id": "igAM82NIAoOx",
    "outputId": "96eca92f-208e-4a18-facf-6dd04f9b2f47"
   },
   "outputs": [
    {
     "name": "stdout",
     "output_type": "stream",
     "text": [
      "Epoch 1/30\n",
      "250/250 [==============================] - 1s 4ms/step - loss: 0.4348 - accuracy: 0.8007 - val_loss: 0.4340 - val_accuracy: 0.8001\n",
      "Epoch 2/30\n",
      "250/250 [==============================] - 1s 4ms/step - loss: 0.4345 - accuracy: 0.8005 - val_loss: 0.4360 - val_accuracy: 0.7999\n",
      "Epoch 3/30\n",
      "250/250 [==============================] - 1s 4ms/step - loss: 0.4349 - accuracy: 0.8005 - val_loss: 0.4340 - val_accuracy: 0.7997\n",
      "Epoch 4/30\n",
      "250/250 [==============================] - 1s 4ms/step - loss: 0.4342 - accuracy: 0.8013 - val_loss: 0.4330 - val_accuracy: 0.8010\n",
      "Epoch 5/30\n",
      "250/250 [==============================] - 1s 4ms/step - loss: 0.4338 - accuracy: 0.8010 - val_loss: 0.4323 - val_accuracy: 0.7996\n",
      "Epoch 6/30\n",
      "250/250 [==============================] - 1s 4ms/step - loss: 0.4337 - accuracy: 0.8016 - val_loss: 0.4308 - val_accuracy: 0.8009\n",
      "Epoch 7/30\n",
      "250/250 [==============================] - 1s 4ms/step - loss: 0.4331 - accuracy: 0.8012 - val_loss: 0.4327 - val_accuracy: 0.8016\n",
      "Epoch 8/30\n",
      "250/250 [==============================] - 1s 4ms/step - loss: 0.4330 - accuracy: 0.8016 - val_loss: 0.4305 - val_accuracy: 0.8012\n",
      "Epoch 9/30\n",
      "250/250 [==============================] - 1s 4ms/step - loss: 0.4326 - accuracy: 0.8016 - val_loss: 0.4313 - val_accuracy: 0.8008\n",
      "Epoch 10/30\n",
      "250/250 [==============================] - 1s 4ms/step - loss: 0.4321 - accuracy: 0.8015 - val_loss: 0.4313 - val_accuracy: 0.8012\n",
      "Epoch 11/30\n",
      "250/250 [==============================] - 1s 4ms/step - loss: 0.4314 - accuracy: 0.8022 - val_loss: 0.4312 - val_accuracy: 0.7991\n",
      "Epoch 12/30\n",
      "250/250 [==============================] - 1s 4ms/step - loss: 0.4309 - accuracy: 0.8023 - val_loss: 0.4315 - val_accuracy: 0.8011\n",
      "Epoch 13/30\n",
      "250/250 [==============================] - 1s 4ms/step - loss: 0.4311 - accuracy: 0.8033 - val_loss: 0.4296 - val_accuracy: 0.8019\n",
      "Epoch 14/30\n",
      "250/250 [==============================] - 1s 4ms/step - loss: 0.4301 - accuracy: 0.8039 - val_loss: 0.4278 - val_accuracy: 0.8027\n",
      "Epoch 15/30\n",
      "250/250 [==============================] - 1s 4ms/step - loss: 0.4293 - accuracy: 0.8033 - val_loss: 0.4282 - val_accuracy: 0.8009\n",
      "Epoch 16/30\n",
      "250/250 [==============================] - 1s 4ms/step - loss: 0.4291 - accuracy: 0.8040 - val_loss: 0.4260 - val_accuracy: 0.8020\n",
      "Epoch 17/30\n",
      "250/250 [==============================] - 1s 4ms/step - loss: 0.4286 - accuracy: 0.8045 - val_loss: 0.4299 - val_accuracy: 0.8023\n",
      "Epoch 18/30\n",
      "250/250 [==============================] - 1s 4ms/step - loss: 0.4277 - accuracy: 0.8043 - val_loss: 0.4253 - val_accuracy: 0.8038\n",
      "Epoch 19/30\n",
      "250/250 [==============================] - 1s 4ms/step - loss: 0.4275 - accuracy: 0.8050 - val_loss: 0.4260 - val_accuracy: 0.8040\n",
      "Epoch 20/30\n",
      "250/250 [==============================] - 1s 4ms/step - loss: 0.4272 - accuracy: 0.8055 - val_loss: 0.4273 - val_accuracy: 0.8042\n",
      "Epoch 21/30\n",
      "250/250 [==============================] - 1s 4ms/step - loss: 0.4264 - accuracy: 0.8056 - val_loss: 0.4257 - val_accuracy: 0.8041\n",
      "Epoch 22/30\n",
      "250/250 [==============================] - 1s 4ms/step - loss: 0.4262 - accuracy: 0.8063 - val_loss: 0.4299 - val_accuracy: 0.8044\n",
      "Epoch 23/30\n",
      "250/250 [==============================] - 1s 4ms/step - loss: 0.4257 - accuracy: 0.8058 - val_loss: 0.4283 - val_accuracy: 0.8048\n",
      "Epoch 24/30\n",
      "250/250 [==============================] - 1s 4ms/step - loss: 0.4252 - accuracy: 0.8067 - val_loss: 0.4261 - val_accuracy: 0.8045\n",
      "Epoch 25/30\n",
      "250/250 [==============================] - 1s 4ms/step - loss: 0.4251 - accuracy: 0.8063 - val_loss: 0.4298 - val_accuracy: 0.8047\n",
      "Epoch 26/30\n",
      "250/250 [==============================] - 1s 4ms/step - loss: 0.4244 - accuracy: 0.8072 - val_loss: 0.4269 - val_accuracy: 0.8045\n",
      "Epoch 27/30\n",
      "250/250 [==============================] - 1s 4ms/step - loss: 0.4244 - accuracy: 0.8073 - val_loss: 0.4251 - val_accuracy: 0.8057\n",
      "Epoch 28/30\n",
      "250/250 [==============================] - 1s 4ms/step - loss: 0.4244 - accuracy: 0.8076 - val_loss: 0.4236 - val_accuracy: 0.8052\n",
      "Epoch 29/30\n",
      "250/250 [==============================] - 1s 4ms/step - loss: 0.4239 - accuracy: 0.8077 - val_loss: 0.4317 - val_accuracy: 0.8033\n",
      "Epoch 30/30\n",
      "250/250 [==============================] - 1s 4ms/step - loss: 0.4245 - accuracy: 0.8080 - val_loss: 0.4251 - val_accuracy: 0.8062\n"
     ]
    },
    {
     "data": {
      "text/plain": [
       "<keras.callbacks.History at 0x7f5830ccba90>"
      ]
     },
     "execution_count": 21,
     "metadata": {},
     "output_type": "execute_result"
    }
   ],
   "source": [
    "model_simple.fit(X_train_std,\n",
    "                    y_train,\n",
    "                    epochs=30,\n",
    "                    batch_size=512,\n",
    "                    validation_data=(X_test_std, y_test))"
   ]
  },
  {
   "cell_type": "markdown",
   "metadata": {},
   "source": [
    "Since the accuracy is pretty even from the lowest epoch values, and the loss is low, we had to perform a grid serch to see which was the optimal amount of epochs. "
   ]
  },
  {
   "cell_type": "code",
   "execution_count": 27,
   "metadata": {
    "colab": {
     "base_uri": "https://localhost:8080/"
    },
    "executionInfo": {
     "elapsed": 34,
     "status": "ok",
     "timestamp": 1633447476986,
     "user": {
      "displayName": "Talha Malik",
      "photoUrl": "https://lh3.googleusercontent.com/a/default-user=s64",
      "userId": "11307539403731091258"
     },
     "user_tz": -120
    },
    "id": "e5Ztl17q1Qlw",
    "outputId": "b1a0ad70-5598-483f-b6cd-7f7107fc1e83"
   },
   "outputs": [
    {
     "data": {
      "text/plain": [
       "<keras.engine.sequential.Sequential at 0x7f88b727efd0>"
      ]
     },
     "execution_count": 27,
     "metadata": {},
     "output_type": "execute_result"
    }
   ],
   "source": [
    "model_simple"
   ]
  },
  {
   "cell_type": "markdown",
   "metadata": {
    "id": "6BGisK4-gUHy"
   },
   "source": [
    "#### Grid Search for keras ANN"
   ]
  },
  {
   "cell_type": "code",
   "execution_count": 8,
   "metadata": {
    "executionInfo": {
     "elapsed": 227,
     "status": "ok",
     "timestamp": 1633467145612,
     "user": {
      "displayName": "Talha Malik",
      "photoUrl": "https://lh3.googleusercontent.com/a/default-user=s64",
      "userId": "11307539403731091258"
     },
     "user_tz": -120
    },
    "id": "L4tdvUTc8F-2"
   },
   "outputs": [],
   "source": [
    "# Calculate number of nodes for each layer\n",
    "def FindLayerNodesLinear(n_layers, first_layer_nodes, last_layer_nodes):\n",
    "    layers = []\n",
    "    \n",
    "    nodes_increment = (last_layer_nodes - first_layer_nodes)/ (n_layers-1)\n",
    "    nodes = first_layer_nodes\n",
    "    for i in range(1, n_layers+1):\n",
    "        layers.append(math.ceil(nodes))\n",
    "        nodes = nodes + nodes_increment\n",
    "    \n",
    "    return layers"
   ]
  },
  {
   "cell_type": "code",
   "execution_count": 9,
   "metadata": {
    "executionInfo": {
     "elapsed": 3,
     "status": "ok",
     "timestamp": 1633467147001,
     "user": {
      "displayName": "Talha Malik",
      "photoUrl": "https://lh3.googleusercontent.com/a/default-user=s64",
      "userId": "11307539403731091258"
     },
     "user_tz": -120
    },
    "id": "4vjRINIS5-5V"
   },
   "outputs": [],
   "source": [
    "# Create model\n",
    "def createmodel(n_layers, first_layer_nodes, last_layer_nodes, activation_func, loss_func):\n",
    "    model = Sequential()\n",
    "    n_nodes = FindLayerNodesLinear(n_layers, first_layer_nodes, last_layer_nodes)\n",
    "    for i in range(1, n_layers):\n",
    "        if i==1:\n",
    "            model.add(Dense(first_layer_nodes, input_dim=X_train.shape[1], activation=activation_func))\n",
    "        else:\n",
    "            model.add(Dense(n_nodes[i-1], activation=activation_func))\n",
    "            \n",
    "    #Finally, the output layer should have a single node in binary classification\n",
    "    model.add(Dense(1, activation=activation_func))\n",
    "    model.compile(optimizer='rmsprop', loss=loss_func, metrics = [\"accuracy\"]) #note: metrics could also be 'mse'\n",
    "    \n",
    "    return model\n",
    "\n",
    "##Wrap model into scikit-learn\n",
    "model =  KerasClassifier(build_fn=createmodel, verbose = False) "
   ]
  },
  {
   "cell_type": "code",
   "execution_count": 10,
   "metadata": {
    "executionInfo": {
     "elapsed": 5,
     "status": "ok",
     "timestamp": 1633467148614,
     "user": {
      "displayName": "Talha Malik",
      "photoUrl": "https://lh3.googleusercontent.com/a/default-user=s64",
      "userId": "11307539403731091258"
     },
     "user_tz": -120
    },
    "id": "n7rLOEHu71k8"
   },
   "outputs": [],
   "source": [
    "## Define params for grid search\n",
    "activation_funcs = ['sigmoid', 'relu'] \n",
    "loss_funcs = ['binary_crossentropy']\n",
    "param_grid = dict(n_layers=[2,3,4], first_layer_nodes = [128,64,32,16], last_layer_nodes = [4],  activation_func = activation_funcs, loss_func = loss_funcs, batch_size = [128,256,512,1024], epochs = [10,20,30])\n",
    "grid = GridSearchCV(estimator = model, param_grid = param_grid)"
   ]
  },
  {
   "cell_type": "code",
   "execution_count": 11,
   "metadata": {
    "colab": {
     "base_uri": "https://localhost:8080/"
    },
    "executionInfo": {
     "elapsed": 10715740,
     "status": "ok",
     "timestamp": 1633481741159,
     "user": {
      "displayName": "Talha Malik",
      "photoUrl": "https://lh3.googleusercontent.com/a/default-user=s64",
      "userId": "11307539403731091258"
     },
     "user_tz": -120
    },
    "id": "CjU0r04T881Q",
    "outputId": "0c47fcea-d700-4840-92ad-c86ef71d415b"
   },
   "outputs": [
    {
     "data": {
      "text/plain": [
       "GridSearchCV(cv=None, error_score=nan,\n",
       "             estimator=<keras.wrappers.scikit_learn.KerasClassifier object at 0x7f583d355e10>,\n",
       "             iid='deprecated', n_jobs=None,\n",
       "             param_grid={'activation_func': ['sigmoid', 'relu'],\n",
       "                         'batch_size': [128, 256, 512, 1024],\n",
       "                         'epochs': [10, 20, 30],\n",
       "                         'first_layer_nodes': [128, 64, 32, 16],\n",
       "                         'last_layer_nodes': [4],\n",
       "                         'loss_func': ['binary_crossentropy'],\n",
       "                         'n_layers': [2, 3, 4]},\n",
       "             pre_dispatch='2*n_jobs', refit=True, return_train_score=False,\n",
       "             scoring=None, verbose=0)"
      ]
     },
     "execution_count": 11,
     "metadata": {},
     "output_type": "execute_result"
    }
   ],
   "source": [
    "# Train models\n",
    "grid.fit(X_train_std,y_train)"
   ]
  },
  {
   "cell_type": "code",
   "execution_count": 12,
   "metadata": {
    "colab": {
     "base_uri": "https://localhost:8080/"
    },
    "executionInfo": {
     "elapsed": 17,
     "status": "ok",
     "timestamp": 1633481741161,
     "user": {
      "displayName": "Talha Malik",
      "photoUrl": "https://lh3.googleusercontent.com/a/default-user=s64",
      "userId": "11307539403731091258"
     },
     "user_tz": -120
    },
    "id": "eJ1oLqEk9Ax8",
    "outputId": "1ff720f7-9678-4381-8375-91054cbe3a97"
   },
   "outputs": [
    {
     "name": "stdout",
     "output_type": "stream",
     "text": [
      "Grid Search on ANN (Best Score):  0.7983437657356263\n",
      "Grid Search on ANN (Best Params):  {'activation_func': 'relu', 'batch_size': 256, 'epochs': 30, 'first_layer_nodes': 128, 'last_layer_nodes': 4, 'loss_func': 'binary_crossentropy', 'n_layers': 4}\n"
     ]
    }
   ],
   "source": [
    "print('Grid Search on ANN (Best Score): '  , grid.best_score_)\n",
    "print('Grid Search on ANN (Best Params): ' ,grid.best_params_)"
   ]
  },
  {
   "cell_type": "code",
   "execution_count": 13,
   "metadata": {
    "executionInfo": {
     "elapsed": 6,
     "status": "ok",
     "timestamp": 1633481741162,
     "user": {
      "displayName": "Talha Malik",
      "photoUrl": "https://lh3.googleusercontent.com/a/default-user=s64",
      "userId": "11307539403731091258"
     },
     "user_tz": -120
    },
    "id": "Y_Qr74i0gvQW"
   },
   "outputs": [],
   "source": [
    "best_ANN = grid.best_estimator_"
   ]
  },
  {
   "cell_type": "code",
   "execution_count": 14,
   "metadata": {
    "executionInfo": {
     "elapsed": 6,
     "status": "ok",
     "timestamp": 1633481741163,
     "user": {
      "displayName": "Talha Malik",
      "photoUrl": "https://lh3.googleusercontent.com/a/default-user=s64",
      "userId": "11307539403731091258"
     },
     "user_tz": -120
    },
    "id": "2DQbCguch0bH"
   },
   "outputs": [],
   "source": [
    "def make_submisson(model, name = 'submission.csv'):\n",
    "  data_test_final = pd.read_csv(\"test.csv\")\n",
    "  data_test_final = data_test_final.iloc[:, 1:10]\n",
    "  print (data_test_final.head())\n",
    "  data_test_std = sc.transform(data_test_final)\n",
    "  test_pred_final = model.predict(data_test_std)\n",
    "  print (test_pred_final)\n",
    "  # Convert probabilities to classes\n",
    "  targets = (test_pred_final > 0.5).astype(\"int64\").astype(\"float64\")\n",
    "  csv_data = {'Survived':targets[:, 0]} \n",
    "  df = pd.DataFrame(csv_data) \n",
    "  df.index.name = 'Id'\n",
    "  print(df.head())\n",
    "  df.to_csv(name)"
   ]
  },
  {
   "cell_type": "code",
   "execution_count": 22,
   "metadata": {
    "colab": {
     "base_uri": "https://localhost:8080/"
    },
    "executionInfo": {
     "elapsed": 1756,
     "status": "ok",
     "timestamp": 1633482210799,
     "user": {
      "displayName": "Talha Malik",
      "photoUrl": "https://lh3.googleusercontent.com/a/default-user=s64",
      "userId": "11307539403731091258"
     },
     "user_tz": -120
    },
    "id": "VCBwCmNhljvz",
    "outputId": "8b39290e-b417-48d8-afd4-8ba2f0573f02"
   },
   "outputs": [
    {
     "name": "stdout",
     "output_type": "stream",
     "text": [
      "      col_0        col_1      col_2  ...      col_6       col_7          col_8\n",
      "0  4.022784    55.856406  29.922403  ...   7.014724   -0.083142  601273.608998\n",
      "1  3.992970    54.215653  26.485782  ...   6.985344    0.288968  206517.816317\n",
      "2  8.992121  8039.491762  59.917066  ...  10.496820   -0.039709  222066.359095\n",
      "3  0.984910     2.677570   4.797783  ...   7.005128  470.613913   22911.001098\n",
      "4  1.000011     2.718311  32.485426  ...   3.494827    0.859416   85149.762596\n",
      "\n",
      "[5 rows x 9 columns]\n",
      "[[0.7827109 ]\n",
      " [0.08352521]\n",
      " [0.09349078]\n",
      " ...\n",
      " [0.27765667]\n",
      " [0.43107867]\n",
      " [0.01479951]]\n",
      "    Survived\n",
      "Id          \n",
      "0        1.0\n",
      "1        0.0\n",
      "2        0.0\n",
      "3        1.0\n",
      "4        0.0\n"
     ]
    }
   ],
   "source": [
    "make_submisson(model_simple, 'submission_simple.csv')"
   ]
  },
  {
   "cell_type": "code",
   "execution_count": 17,
   "metadata": {
    "colab": {
     "base_uri": "https://localhost:8080/"
    },
    "executionInfo": {
     "elapsed": 1426,
     "status": "ok",
     "timestamp": 1633482102897,
     "user": {
      "displayName": "Talha Malik",
      "photoUrl": "https://lh3.googleusercontent.com/a/default-user=s64",
      "userId": "11307539403731091258"
     },
     "user_tz": -120
    },
    "id": "BNrH-IFClqNn",
    "outputId": "9a79a85b-5278-4567-e941-86e28d346446"
   },
   "outputs": [
    {
     "name": "stdout",
     "output_type": "stream",
     "text": [
      "      col_0        col_1      col_2  ...      col_6       col_7          col_8\n",
      "0  4.022784    55.856406  29.922403  ...   7.014724   -0.083142  601273.608998\n",
      "1  3.992970    54.215653  26.485782  ...   6.985344    0.288968  206517.816317\n",
      "2  8.992121  8039.491762  59.917066  ...  10.496820   -0.039709  222066.359095\n",
      "3  0.984910     2.677570   4.797783  ...   7.005128  470.613913   22911.001098\n",
      "4  1.000011     2.718311  32.485426  ...   3.494827    0.859416   85149.762596\n",
      "\n",
      "[5 rows x 9 columns]\n",
      "[[1.]\n",
      " [0.]\n",
      " [0.]\n",
      " ...\n",
      " [0.]\n",
      " [1.]\n",
      " [0.]]\n",
      "    Survived\n",
      "Id          \n",
      "0        1.0\n",
      "1        0.0\n",
      "2        0.0\n",
      "3        1.0\n",
      "4        0.0\n"
     ]
    }
   ],
   "source": [
    "make_submisson(best_ANN, 'submission_grid.csv')"
   ]
  },
  {
   "cell_type": "markdown",
   "metadata": {
    "id": "Gb04oI0taJ9x"
   },
   "source": [
    "# Results"
   ]
  },
  {
   "cell_type": "markdown",
   "metadata": {
    "id": "F39xeaAXaPjy"
   },
   "source": [
    "# Discussion / conclusion"
   ]
  },
  {
   "cell_type": "markdown",
   "metadata": {
    "id": "anGPPaf-aTHo"
   },
   "source": [
    "Provide a summary of the assignment: (you are required to address **the first three** points of the list below)\n",
    "- obstacles / problems you have met regarding the modelling proces\n",
    "- degree of success\n",
    "- given more time, what would be done differently\n",
    "- further comments (if any)"
   ]
  },
  {
   "cell_type": "markdown",
   "metadata": {},
   "source": [
    "- Challenges in the modelling was the large variance in the data; large amounts of data were grouped in \"high value\" outlier groups. \n",
    "These were too many to be removed, so the effect of this could be that the scaled data would leave the majority of values very small, making it harder for the algorithm to detect trends in the lower velued data, and apply the right weights here. A challenge with ANN is the vast amount of options to go with - leaving the likelyhood to achieve the optimal solution smaller.\n",
    "\n",
    "- The model achieved an accuracy of around 80%, which is quite good with a difficult data set. The ANN model did however not perform very much better than the simpler models, which is lower than one would expect with a more advanced model. \n",
    "\n",
    "- A variety of options could be tested; amount layers, different layer sizes and various preprocessing options like feature engineering etc. We encountered large differences by making small alterations to the i.e. batch size and epochs of the model, "
   ]
  }
 ],
 "metadata": {
  "colab": {
   "collapsed_sections": [
    "Gb04oI0taJ9x"
   ],
   "name": "CA1.ipynb",
   "provenance": []
  },
  "kernelspec": {
   "display_name": "Python 3",
   "language": "python",
   "name": "python3"
  },
  "language_info": {
   "codemirror_mode": {
    "name": "ipython",
    "version": 3
   },
   "file_extension": ".py",
   "mimetype": "text/x-python",
   "name": "python",
   "nbconvert_exporter": "python",
   "pygments_lexer": "ipython3",
   "version": "3.9.5"
  }
 },
 "nbformat": 4,
 "nbformat_minor": 4
}
